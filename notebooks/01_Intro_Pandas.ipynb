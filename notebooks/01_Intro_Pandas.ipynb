{
 "cells": [
  {
   "cell_type": "code",
   "execution_count": null,
   "id": "fc515c4f-fa07-47aa-af30-ee8708a100f5",
   "metadata": {},
   "outputs": [],
   "source": [
    "import pandas as pd\n",
    "print(\"Pandas version,\", pd.__version__)"
   ]
  },
  {
   "cell_type": "markdown",
   "id": "fdf6fa0e-37d2-4194-a946-fa2ab965a6be",
   "metadata": {},
   "source": [
    "Pandas introduces two primary data structures: Series and DataFrame, along\n",
    "with an Index that labels the data.\n",
    "Series: Its a one-dimensional array of data with an index (like a labeled column of values).\n",
    "DataFrame: DataFrame is a two-dimensional table of data, consisting of multiple Series \n",
    "that share the same index (like a spreadsheet or SQL table)\n",
    "The index is a set of labels for each row (and each column, in the case of column names),\n",
    "by default, Pandas assigns an integer index starting form 0 for rach row.\n",
    "Why do we use pandas?\n",
    "In real-world data analysis, you will often actually work with dataset\n",
    "(csv files, databases, JSON APIS, etc). That would need cleaning, transformation and summarization.\n",
    "Pandas provides high-level data structure and functions that makes theses tasks easy,\n",
    "Its built on Numpy, and it gives high performace of numerical data."
   ]
  },
  {
   "cell_type": "code",
   "execution_count": 6,
   "id": "2fb91356-bc88-4e4b-959c-9671319e12d1",
   "metadata": {},
   "outputs": [
    {
     "name": "stdout",
     "output_type": "stream",
     "text": [
      "Series of Scores:\n",
      "Alice      89\n",
      "Bob        90\n",
      "Charlie    88\n",
      "Dana       88\n",
      "dtype: int64 \n",
      "\n"
     ]
    }
   ],
   "source": [
    "# Create a Series of exam scores\n",
    "scores = pd.Series([89, 90, 88, 88], index=[\"Alice\", \"Bob\", \"Charlie\", \"Dana\"])\n",
    "print(\"Series of Scores:\")\n",
    "print(scores, \"\\n\")"
   ]
  },
  {
   "cell_type": "code",
   "execution_count": 10,
   "id": "d949d628-353e-4ae5-8127-20a291acd575",
   "metadata": {},
   "outputs": [
    {
     "name": "stdout",
     "output_type": "stream",
     "text": [
      "      Name  Age City  Score\n",
      "0    Alice   45   NY     89\n",
      "1      Bob   33   LA     90\n",
      "2  Charlie   55   NY     88\n",
      "3     Dana   22   TX     88\n"
     ]
    }
   ],
   "source": [
    "# Create a Dataframe of students with multiple columns\n",
    "data = {\n",
    "    \"Name\": [\"Alice\", \"Bob\", \"Charlie\", \"Dana\"],\n",
    "    \"Age\": [45, 33, 55, 22],\n",
    "    \"City\": [\"NY\", \"LA\", \"NY\", \"TX\"],\n",
    "    \"Score\": [89, 90, 88, 88]\n",
    "}\n",
    "df = pd.DataFrame(data)\n",
    "print(df)"
   ]
  },
  {
   "cell_type": "code",
   "execution_count": null,
   "id": "6a6f9551-3b51-4cae-8ebd-a48c9f91754e",
   "metadata": {},
   "outputs": [],
   "source": []
  }
 ],
 "metadata": {
  "kernelspec": {
   "display_name": "Python 3 (ipykernel)",
   "language": "python",
   "name": "python3"
  },
  "language_info": {
   "codemirror_mode": {
    "name": "ipython",
    "version": 3
   },
   "file_extension": ".py",
   "mimetype": "text/x-python",
   "name": "python",
   "nbconvert_exporter": "python",
   "pygments_lexer": "ipython3",
   "version": "3.13.5"
  }
 },
 "nbformat": 4,
 "nbformat_minor": 5
}

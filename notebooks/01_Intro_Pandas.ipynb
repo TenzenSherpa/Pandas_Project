{
 "cells": [
  {
   "cell_type": "code",
   "execution_count": 14,
   "id": "fc515c4f-fa07-47aa-af30-ee8708a100f5",
   "metadata": {},
   "outputs": [],
   "source": [
    "import pandas as pd\n",
    "from io import StringIO"
   ]
  },
  {
   "cell_type": "code",
   "execution_count": 15,
   "id": "2be02b1e-0c2a-4d49-be2c-8e3543080427",
   "metadata": {},
   "outputs": [
    {
     "name": "stdout",
     "output_type": "stream",
     "text": [
      "Pandas version, 2.3.1\n"
     ]
    }
   ],
   "source": [
    "print(\"Pandas version,\", pd.__version__)"
   ]
  },
  {
   "cell_type": "markdown",
   "id": "fdf6fa0e-37d2-4194-a946-fa2ab965a6be",
   "metadata": {},
   "source": [
    "Pandas introduces two primary data structures: Series and DataFrame, along\n",
    "with an Index that labels the data.\n",
    "Series: Its a one-dimensional array of data with an index (like a labeled column of values).\n",
    "DataFrame: DataFrame is a two-dimensional table of data, consisting of multiple Series \n",
    "that share the same index (like a spreadsheet or SQL table)\n",
    "The index is a set of labels for each row (and each column, in the case of column names),\n",
    "by default, Pandas assigns an integer index starting form 0 for rach row.\n",
    "Why do we use pandas?\n",
    "In real-world data analysis, you will often actually work with dataset\n",
    "(csv files, databases, JSON APIS, etc). That would need cleaning, transformation and summarization.\n",
    "Pandas provides high-level data structure and functions that makes theses tasks easy,\n",
    "Its built on Numpy, and it gives high performace of numerical data."
   ]
  },
  {
   "cell_type": "code",
   "execution_count": 16,
   "id": "2fb91356-bc88-4e4b-959c-9671319e12d1",
   "metadata": {},
   "outputs": [
    {
     "name": "stdout",
     "output_type": "stream",
     "text": [
      "Series of Scores:\n",
      "Alice      89\n",
      "Bob        90\n",
      "Charlie    88\n",
      "Dana       88\n",
      "dtype: int64 \n",
      "\n"
     ]
    }
   ],
   "source": [
    "# Create a Series of exam scores\n",
    "scores = pd.Series([89, 90, 88, 88], index=[\"Alice\", \"Bob\", \"Charlie\", \"Dana\"])\n",
    "print(\"Series of Scores:\")\n",
    "print(scores, \"\\n\")"
   ]
  },
  {
   "cell_type": "code",
   "execution_count": 17,
   "id": "d949d628-353e-4ae5-8127-20a291acd575",
   "metadata": {},
   "outputs": [
    {
     "name": "stdout",
     "output_type": "stream",
     "text": [
      "      Name  Age City  Score\n",
      "0    Alice   45   NY     89\n",
      "1      Bob   33   LA     90\n",
      "2  Charlie   55   NY     88\n",
      "3     Dana   22   TX     88\n"
     ]
    }
   ],
   "source": [
    "# Create a Dataframe of students with multiple columns\n",
    "data = {\n",
    "    \"Name\": [\"Alice\", \"Bob\", \"Charlie\", \"Dana\"],\n",
    "    \"Age\": [45, 33, 55, 22],\n",
    "    \"City\": [\"NY\", \"LA\", \"NY\", \"TX\"],\n",
    "    \"Score\": [89, 90, 88, 88]\n",
    "}\n",
    "df = pd.DataFrame(data)\n",
    "print(df)"
   ]
  },
  {
   "cell_type": "code",
   "execution_count": 18,
   "id": "6a6f9551-3b51-4cae-8ebd-a48c9f91754e",
   "metadata": {},
   "outputs": [
    {
     "name": "stdout",
     "output_type": "stream",
     "text": [
      "Columns of df: Index(['Name', 'Age', 'City', 'Score'], dtype='object')\n"
     ]
    }
   ],
   "source": [
    "print(\"Columns of df:\", df.columns)"
   ]
  },
  {
   "cell_type": "code",
   "execution_count": 19,
   "id": "78c574f5-ec2c-4b9e-8e9a-6bd833f3311a",
   "metadata": {},
   "outputs": [
    {
     "name": "stdout",
     "output_type": "stream",
     "text": [
      "DataFrame read from CSV:\n",
      "      Name  Age City\n",
      "0    Alice   45   NY\n",
      "1      Bob   33   LA\n",
      "2  Charlie   55   NY\n",
      "3     Dana   22   TX \n",
      "\n",
      "DataFrame has been written to the file\n"
     ]
    }
   ],
   "source": [
    "# Creating csv data (comma seperated values)\n",
    "csv_data = \"\"\"Name,Age,City\n",
    "Alice,45,NY\n",
    "Bob,33,LA\n",
    "Charlie,55,NY\n",
    "Dana,22,TX\n",
    "\"\"\"\n",
    "# Use StringIo to simulate a file object from the string (for demo purposes)\n",
    "\n",
    "df = pd.read_csv(StringIO(csv_data))\n",
    "print(\"DataFrame read from CSV:\")\n",
    "print(df,\"\\n\")\n",
    "\n",
    "# Now write this DataFrame to an Excel file (this will actually create an actual file\n",
    "df.to_excel(\"people.xlsx\", index=False) # index=False to omits the index in the file\n",
    "\n",
    "print(\"DataFrame has been written to the file\")\n",
    "\n",
    "# In the code above pd.read_csv was used to parse CSV data in practice, you would\n",
    "# pd.read_csv(\"path/to/your/file.csv\")"
   ]
  },
  {
   "cell_type": "code",
   "execution_count": 23,
   "id": "e7ec41c8-c2f9-4dbe-8f48-ad43d5d1d3c3",
   "metadata": {},
   "outputs": [
    {
     "name": "stdout",
     "output_type": "stream",
     "text": [
      "DataFrame read from JSON:\n",
      "  Name  Score\n",
      "0    X      5\n",
      "1    Y      7\n",
      "DataFrame has been written to 'sample.json'\n"
     ]
    },
    {
     "name": "stderr",
     "output_type": "stream",
     "text": [
      "C:\\Users\\Creep\\AppData\\Local\\Temp\\ipykernel_17344\\1638509791.py:3: FutureWarning: Passing literal json to 'read_json' is deprecated and will be removed in a future version. To read from a literal string, wrap it in a 'StringIO' object.\n",
      "  df_json = pd.read_json(json_data)\n"
     ]
    }
   ],
   "source": [
    "# JSON string example\n",
    "json_data = '[{\"Name\": \"X\", \"Score\":5}, {\"Name\": \"Y\", \"Score\": 7}]'\n",
    "df_json = pd.read_json(json_data)\n",
    "print(\"DataFrame read from JSON:\")\n",
    "print(df_json)\n",
    "\n",
    "# Write DataFrame to JSON File\n",
    "df_json.to_json(\"Sample.json\", orient=\"records\")\n",
    "print(\"DataFrame has been written to 'sample.json'\")"
   ]
  },
  {
   "cell_type": "code",
   "execution_count": 27,
   "id": "a47f69a1-e165-4476-bca1-96a6c2ffec5f",
   "metadata": {},
   "outputs": [
    {
     "name": "stdout",
     "output_type": "stream",
     "text": [
      "  Product  Price  Quantity\n",
      "0  Widget     23        33\n",
      "1  Gadget     34        44\n",
      "Dataframe has been written to products.csv\n"
     ]
    }
   ],
   "source": [
    "product_data = {\n",
    "    \"Product\": [\"Widget\", \"Gadget\"],\n",
    "    \"Price\": [23,34],\n",
    "    \"Quantity\": [33,44]\n",
    "}\n",
    "df = pd.DataFrame(product_data)\n",
    "print(df)\n",
    "# Write DataFrame to csv file\n",
    "df.to_csv(\"products.csv\", index=False)\n",
    "print(\"Dataframe has been written to products.csv\")"
   ]
  },
  {
   "cell_type": "code",
   "execution_count": 29,
   "id": "7153bfc9-a6a3-46bc-9a27-809047f994f5",
   "metadata": {},
   "outputs": [
    {
     "name": "stdout",
     "output_type": "stream",
     "text": [
      "  Product  Price  Quantity\n",
      "0  Widget     23        33\n",
      "1  Gadget     34        44\n"
     ]
    }
   ],
   "source": [
    "# Reading from the csv file\n",
    "df = pd.read_csv(\"products.csv\")\n",
    "print(df)"
   ]
  },
  {
   "cell_type": "code",
   "execution_count": 30,
   "id": "dfaaddc1-a58c-49ae-970d-1d3fa19ad913",
   "metadata": {},
   "outputs": [
    {
     "name": "stdout",
     "output_type": "stream",
     "text": [
      "      Name  Age City\n",
      "0    Alice   45   NY\n",
      "1      Bob   33   LA\n",
      "2  Charlie   55   NY\n",
      "3     Dana   22   TX\n"
     ]
    }
   ],
   "source": [
    "# Reading from the excel file\n",
    "df = pd.read_excel(\"people.xlsx\")\n",
    "print(df)"
   ]
  },
  {
   "cell_type": "code",
   "execution_count": 31,
   "id": "19f18042-7575-4beb-8da8-f8ddc9d3e19e",
   "metadata": {},
   "outputs": [
    {
     "name": "stdout",
     "output_type": "stream",
     "text": [
      "  Name  Score\n",
      "0    X      5\n",
      "1    Y      7\n"
     ]
    }
   ],
   "source": [
    "# Reading from the JSON file\n",
    "df = pd.read_json(\"Sample.json\")\n",
    "print(df)"
   ]
  },
  {
   "cell_type": "markdown",
   "id": "28a687ba-e47a-4359-8a3e-bf31301728c5",
   "metadata": {},
   "source": [
    "Once data is loaded into a DataFrame, the first step is to inspect it.\n",
    "Its shape, structure and basic statistics."
   ]
  },
  {
   "cell_type": "markdown",
   "id": "36ee5f91-f278-45c3-abb3-bff2e8833192",
   "metadata": {},
   "source": [
    "# This if for DataFrame\n",
    "df.head(n) - view the first n rows (default is 5)\n",
    "df.tail(n) - view the last n rows\n",
    "df.shape - get the number of rows and colums as tuple (n_rows, n_cols)\n",
    "df.columns - get the column labels\n",
    "df.index - get the index (row labels)\n",
    "df.dtypes - data types of each column\n",
    "df.info() - concise summary: shows the index range, column names,\n",
    "            non-null counts, and dtypes.\n",
    "df.describe() - descriptive statics for numeric columns\n",
    "                (count, mean, std, min, quartiles, max)\n",
    "if we pass include='all', it will attempt to summarize non-numerical columns.\n",
    "(example count of unique, top value frequency)\n",
    "\n",
    "# Series\n",
    "ser.value_counts() - frequency count of unique values\n",
    "ser.unique() - array of unique values\n",
    "ser.mean(), ser.min(), ser.max(), ser.sum(), ser.median() - common statistics\n",
    "ser.isna() - Boolean series indicating missing values (Nans)"
   ]
  },
  {
   "cell_type": "markdown",
   "id": "ee452bee-4e53-44a0-81be-e4ccdbf47f2a",
   "metadata": {},
   "source": [
    "Whenever you get a new dataset, you should always perform an initial exploration.\n",
    "For example, if you're analyzing a dataset of customer purchases-\n",
    "How many records are there?\n",
    "What columns(features) does it have?\n",
    "Are they numeric, catagorical, dates?\n",
    "Are there missing values to worry about?\n",
    "What are the ranges of typical values of numerical values (describe())?\n",
    "Do any columns have suspecious values (like negative values, or ages)"
   ]
  },
  {
   "cell_type": "code",
   "execution_count": 41,
   "id": "f48bb473-4b57-4db4-a7dc-887fa9477d43",
   "metadata": {},
   "outputs": [
    {
     "name": "stdout",
     "output_type": "stream",
     "text": [
      "First 3 rows:\n",
      "       Name  Age City  Score\n",
      "0    Alice   45   NY     89\n",
      "1      Bob   33   LA     90\n",
      "2  Charlie   55   NY     88 \n",
      "\n",
      "DataFrame Shape (4, 4)\n",
      "Colums: Index(['Name', 'Age', 'City', 'Score'], dtype='object')\n",
      "Data Types:\n",
      " Name     object\n",
      "Age       int64\n",
      "City     object\n",
      "Score     int64\n",
      "dtype: object \n",
      "\n",
      "<class 'pandas.core.frame.DataFrame'>\n",
      "RangeIndex: 4 entries, 0 to 3\n",
      "Data columns (total 4 columns):\n",
      " #   Column  Non-Null Count  Dtype \n",
      "---  ------  --------------  ----- \n",
      " 0   Name    4 non-null      object\n",
      " 1   Age     4 non-null      int64 \n",
      " 2   City    4 non-null      object\n",
      " 3   Score   4 non-null      int64 \n",
      "dtypes: int64(2), object(2)\n",
      "memory usage: 260.0+ bytes\n",
      "\n",
      "Summary Statistics\n",
      "              Age      Score\n",
      "count   4.000000   4.000000\n",
      "mean   38.750000  88.750000\n",
      "std    14.338177   0.957427\n",
      "min    22.000000  88.000000\n",
      "25%    30.250000  88.000000\n",
      "50%    39.000000  88.500000\n",
      "75%    47.500000  89.250000\n",
      "max    55.000000  90.000000\n",
      "0    NY\n",
      "1    LA\n",
      "2    NY\n",
      "3    TX\n",
      "Name: City, dtype: object\n",
      "Unique Cities: ['NY' 'LA' 'TX']\n",
      "Counts Of Each City:\n",
      " City\n",
      "NY    2\n",
      "LA    1\n",
      "TX    1\n",
      "Name: count, dtype: int64\n"
     ]
    }
   ],
   "source": [
    "# Code Demo\n",
    "data = {\n",
    "    \"Name\": [\"Alice\", \"Bob\", \"Charlie\", \"Dana\"],\n",
    "    \"Age\": [45, 33, 55, 22],\n",
    "    \"City\": [\"NY\", \"LA\", \"NY\", \"TX\"],\n",
    "    \"Score\": [89, 90, 88, 88]\n",
    "}\n",
    "df = pd.DataFrame(data)\n",
    "print(\"First 3 rows:\\n\", df.head(3),\"\\n\")\n",
    "print(\"DataFrame Shape\", df.shape)\n",
    "print(\"Colums:\", df.columns)\n",
    "print(\"Data Types:\\n\", df.dtypes,\"\\n\")\n",
    "df.info() # Prints into to console\n",
    "print(\"\\nSummary Statistics\\n\", df.describe())\n",
    "print(df[\"City\"])\n",
    "print(\"Unique Cities:\", df[\"City\"].unique())\n",
    "print(\"Counts Of Each City:\\n\", df[\"City\"].value_counts())"
   ]
  },
  {
   "cell_type": "code",
   "execution_count": null,
   "id": "4ca2276b-2e13-44d7-9272-8adb4b819d9b",
   "metadata": {},
   "outputs": [],
   "source": []
  }
 ],
 "metadata": {
  "kernelspec": {
   "display_name": "Python 3 (ipykernel)",
   "language": "python",
   "name": "python3"
  },
  "language_info": {
   "codemirror_mode": {
    "name": "ipython",
    "version": 3
   },
   "file_extension": ".py",
   "mimetype": "text/x-python",
   "name": "python",
   "nbconvert_exporter": "python",
   "pygments_lexer": "ipython3",
   "version": "3.13.5"
  }
 },
 "nbformat": 4,
 "nbformat_minor": 5
}

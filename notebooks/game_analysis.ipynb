{
 "cells": [
  {
   "cell_type": "code",
   "execution_count": 16,
   "id": "77db3f87-1465-4200-858b-1c0abd89097f",
   "metadata": {},
   "outputs": [
    {
     "name": "stdout",
     "output_type": "stream",
     "text": [
      "Shape: (51, 7)\n",
      "Columns: ['Console Name', 'Type', 'Company', 'Released Year', 'Discontinuation Year', 'Units sold (million)', 'Remarks']\n",
      "      Console Name      Type   Company  Released Year  Discontinuation Year  \\\n",
      "0    PlayStation 2      Home      Sony           2000                  2013   \n",
      "1      Nintendo DS  Handheld  Nintendo           2004                  2013   \n",
      "2  Nintendo Switch    Hybrid  Nintendo           2017                     0   \n",
      "3         Game Boy  Handheld  Nintendo           1989                  2003   \n",
      "4   Game Boy Color  Handheld  Nintendo           1998                  2003   \n",
      "\n",
      "   Units sold (million)                                            Remarks  \n",
      "0                155.00           Final sales are greater than 155 million  \n",
      "1                154.02                                                NaN  \n",
      "2                122.55                                                NaN  \n",
      "3                 64.42  The Game Boy (1989) and the Game Boy Color (19...  \n",
      "4                 44.06                                                NaN  \n",
      "<class 'pandas.core.frame.DataFrame'>\n",
      "RangeIndex: 51 entries, 0 to 50\n",
      "Data columns (total 7 columns):\n",
      " #   Column                Non-Null Count  Dtype  \n",
      "---  ------                --------------  -----  \n",
      " 0   Console Name          51 non-null     object \n",
      " 1   Type                  51 non-null     object \n",
      " 2   Company               51 non-null     object \n",
      " 3   Released Year         51 non-null     int64  \n",
      " 4   Discontinuation Year  51 non-null     int64  \n",
      " 5   Units sold (million)  51 non-null     float64\n",
      " 6   Remarks               16 non-null     object \n",
      "dtypes: float64(1), int64(2), object(4)\n",
      "memory usage: 2.9+ KB\n"
     ]
    }
   ],
   "source": [
    "import pandas as pd\n",
    "\n",
    "import matplotlib.pyplot as plt\n",
    "\n",
    "# Read the csv file from the Data Folder\n",
    "df = pd.read_csv(\"../data/best_selling_game_consoles.csv\")\n",
    "\n",
    "print(\"Shape:\", df.shape)\n",
    "print(\"Columns:\", df.columns.tolist())\n",
    "print(df.head(5))\n",
    "df.info()"
   ]
  },
  {
   "cell_type": "code",
   "execution_count": 17,
   "id": "b899beda-1fd9-4852-b874-57d4419dea83",
   "metadata": {},
   "outputs": [
    {
     "name": "stdout",
     "output_type": "stream",
     "text": [
      "Missing values per column:\n",
      " Console Name             0\n",
      "Type                     0\n",
      "Company                  0\n",
      "Released Year            0\n",
      "Discontinuation Year     0\n",
      "Units sold (million)     0\n",
      "Remarks                 35\n",
      "dtype: int64\n"
     ]
    }
   ],
   "source": [
    "print(\"Missing values per column:\\n\", df.isna().sum())"
   ]
  },
  {
   "cell_type": "markdown",
   "id": "99d2185f-c099-4cc4-86a5-de1ba1572a82",
   "metadata": {},
   "source": [
    "Looking at the data what we can focus on is Console Name,\n",
    "Type, Company, Released Year, Discontinued Year, Units sold."
   ]
  },
  {
   "cell_type": "code",
   "execution_count": 18,
   "id": "4d4c921b-e6fd-4a8c-93ce-ad1dd76330d7",
   "metadata": {},
   "outputs": [],
   "source": [
    "# Drop Remarks Columns\n",
    "df = df.drop(columns=[\"Remarks\"])"
   ]
  },
  {
   "cell_type": "code",
   "execution_count": 19,
   "id": "e435a5c8-a61d-4e21-a1aa-c34ce25975ee",
   "metadata": {},
   "outputs": [
    {
     "name": "stdout",
     "output_type": "stream",
     "text": [
      "Unique consoles ['PlayStation 2' 'Nintendo DS' 'Nintendo Switch' 'Game Boy'\n",
      " 'Game Boy Color' 'PlayStation 4' 'PlayStation' 'Wii' 'PlayStation 3'\n",
      " 'Xbox 360' 'Game Boy Advance' 'PlayStation Portable' 'Nintendo 3DS'\n",
      " 'NES/Famicom' 'Xbox One' 'SNES/Super Famicom' 'Game & Watch'\n",
      " 'Nintendo 64' 'Sega Genesis/Mega Drive' 'PlayStation 5' 'Atari 2600'\n",
      " 'Xbox' 'GameCube' 'Xbox Series X/S' 'Wii U' 'PlayStation Vita'\n",
      " 'Sega Master System' 'Sega Game Gear' 'PC Engine/TurboGrafx-16'\n",
      " 'Sega Saturn' 'Dreamcast' 'Master System(Brazilian variants)'\n",
      " 'Dendy(Famiclone)' 'Super NES Classic Edition' 'Famicom Disk System'\n",
      " 'NES Classic Edition' 'WonderSwan' 'Sega Pico' 'Color TV-Game'\n",
      " 'Intellivision' 'Mega Drive(Brazilian variants)' 'N-Gage' 'Sega CD'\n",
      " 'ColecoVision' 'Magnavox Odyssey' 'PC Engine CD-ROM' 'Atari 7800'\n",
      " 'Atari Lynx' 'Philips CD-i' 'Telstar' 'Atari 5200']\n"
     ]
    }
   ],
   "source": [
    "print(\"Unique consoles\", df[\"Console Name\"].unique())"
   ]
  },
  {
   "cell_type": "code",
   "execution_count": 20,
   "id": "f7454a18-1bf5-423f-8926-7e73374caf53",
   "metadata": {},
   "outputs": [
    {
     "name": "stdout",
     "output_type": "stream",
     "text": [
      "Number of unique consoles: 51\n"
     ]
    }
   ],
   "source": [
    "print(\"Number of unique consoles:\", df[\"Console Name\"].nunique())"
   ]
  },
  {
   "cell_type": "code",
   "execution_count": 21,
   "id": "4fc8ef3c-5b61-4b4d-9575-f5ac94107b2c",
   "metadata": {},
   "outputs": [],
   "source": [
    "# Lets rename the Units sold (million) to UnitSoldsMillion\n",
    "df = df.rename(columns={\"Units sold (million)\": \"UnitSoldsMillion\"})"
   ]
  },
  {
   "cell_type": "code",
   "execution_count": 22,
   "id": "1ec37046-c6ad-4cd5-8fc5-466470248ed1",
   "metadata": {},
   "outputs": [
    {
     "name": "stdout",
     "output_type": "stream",
     "text": [
      "      Console Name   Company  UnitSoldsMillion\n",
      "0    PlayStation 2      Sony            155.00\n",
      "1      Nintendo DS  Nintendo            154.02\n",
      "2  Nintendo Switch  Nintendo            122.55\n",
      "5    PlayStation 4      Sony            117.20\n",
      "6      PlayStation      Sony            102.49\n"
     ]
    }
   ],
   "source": [
    "# Explaratory Analysis\n",
    "# Top 5 Best Selling Consoles\n",
    "top5 = df.nlargest(5, \"UnitSoldsMillion\")[[\"Console Name\", \"Company\", \"UnitSoldsMillion\"]]\n",
    "print(top5)"
   ]
  },
  {
   "cell_type": "markdown",
   "id": "763b1e00-7fb4-4cc7-9d91-df913d65bccc",
   "metadata": {},
   "source": [
    "# The insights from the above\n",
    "- These five dominate the all time charts. Notably, Sony's Playstation 2 is the\n",
    "  best selling console ever, slighty ahead of the headheld Nintendo DS.\n",
    "- The switch has nearly made the same amount of money as the Nintendo DS has so far\n",
    "  within similar timeframe despite being new as well and experimental."
   ]
  },
  {
   "cell_type": "code",
   "execution_count": 23,
   "id": "13040ea4-9d65-4237-a751-a438939a862d",
   "metadata": {},
   "outputs": [
    {
     "name": "stdout",
     "output_type": "stream",
     "text": [
      "Console Name            PlayStation 2\n",
      "Type                             Home\n",
      "Company                          Sony\n",
      "Released Year                    2000\n",
      "Discontinuation Year             2013\n",
      "UnitSoldsMillion                155.0\n",
      "Name: 0, dtype: object\n"
     ]
    }
   ],
   "source": [
    "best = df.loc[df['UnitSoldsMillion'].idxmax()]\n",
    "print(best)"
   ]
  },
  {
   "cell_type": "code",
   "execution_count": 24,
   "id": "c1dd6be0-bf1f-4a42-83f8-351ebd786517",
   "metadata": {},
   "outputs": [
    {
     "name": "stdout",
     "output_type": "stream",
     "text": [
      "Company\n",
      "Nintendo                   883.11\n",
      "Sony                       589.09\n",
      "Microsoft                  185.00\n",
      "Sega                        78.40\n",
      "Atari                       33.00\n",
      "Tectoy                      11.00\n",
      "NEC/Hudson Soft[note 6]     10.00\n",
      "Micro Genius                 6.00\n",
      "Bandai                       3.50\n",
      "Coleco                       3.00\n",
      "Mattel                       3.00\n",
      "Nokia                        3.00\n",
      "Magnavox/Philips             2.00\n",
      "NEC                          1.92\n",
      "Philips                      1.00\n",
      "Name: UnitSoldsMillion, dtype: float64\n"
     ]
    }
   ],
   "source": [
    "companes_sales = df.groupby(\"Company\")[\"UnitSoldsMillion\"].sum().sort_values(ascending=False)\n",
    "print(companes_sales)"
   ]
  },
  {
   "cell_type": "markdown",
   "id": "7244343e-8f48-4ad7-a449-e5e757dfaf01",
   "metadata": {},
   "source": [
    "# Insights\n",
    "- Nintendo dominates in sales compared to all other console developing companies.\n",
    "- Nintendo is the only japanese console developing company that hits over 100 million sales.\n",
    "- Nintendo has more consoles compared to the other runnerups equalling out more sales in general."
   ]
  },
  {
   "cell_type": "code",
   "execution_count": 26,
   "id": "984a0205-6e9a-434d-8736-b9a6100139ca",
   "metadata": {},
   "outputs": [
    {
     "name": "stdout",
     "output_type": "stream",
     "text": [
      "Type\n",
      "Home                   1090.50\n",
      "Handheld                578.47\n",
      "Hybrid                  122.55\n",
      "Dedicated                12.84\n",
      "Home console add-on       8.66\n",
      "Name: UnitSoldsMillion, dtype: float64\n"
     ]
    }
   ],
   "source": [
    "# Home vs Handheld Consoles Sales\n",
    "type_sales = df.groupby(\"Type\")[\"UnitSoldsMillion\"].sum().sort_values(ascending=False)\n",
    "print(type_sales)"
   ]
  },
  {
   "cell_type": "markdown",
   "id": "8d94fd1b-aa0f-4a2f-8c54-ce31481b2250",
   "metadata": {},
   "source": [
    "# Insight\n",
    "- Hometype consoles like Playstation, Xbox, etc, have a higher combined sales, more then double of handhelds sales total."
   ]
  },
  {
   "cell_type": "code",
   "execution_count": 31,
   "id": "d6df6a4c-f25b-4a6b-9370-212d4bd5cfc9",
   "metadata": {},
   "outputs": [
    {
     "name": "stdout",
     "output_type": "stream",
     "text": [
      "   Decade  UnitSoldsMillion\n",
      "3    2000         79.430000\n",
      "4    2010         51.448750\n",
      "5    2020         24.250000\n",
      "2    1990         21.286923\n",
      "1    1980         17.564286\n",
      "0    1970          9.000000\n"
     ]
    }
   ],
   "source": [
    "# Average by decade\n",
    "df[\"Decade\"] = (df['Released Year']//10)*10\n",
    "decade_sales = df.groupby(\"Decade\")[\"UnitSoldsMillion\"].mean().reset_index().sort_values(by=\"UnitSoldsMillion\",ascending=False)\n",
    "print(decade_sales)"
   ]
  },
  {
   "cell_type": "code",
   "execution_count": 32,
   "id": "585dd0c4-7d98-4961-afec-b71f76872a69",
   "metadata": {},
   "outputs": [
    {
     "name": "stdout",
     "output_type": "stream",
     "text": [
      "                    Company  UnitSoldsMillion\n",
      "0                     Atari          8.250000\n",
      "1                    Bandai          3.500000\n",
      "2                    Coleco          1.500000\n",
      "3          Magnavox/Philips          2.000000\n",
      "4                    Mattel          3.000000\n",
      "5              Micro Genius          6.000000\n",
      "6                 Microsoft         46.250000\n",
      "7                       NEC          1.920000\n",
      "8   NEC/Hudson Soft[note 6]         10.000000\n",
      "9                  Nintendo         51.947647\n",
      "10                    Nokia          3.000000\n",
      "11                  Philips          1.000000\n",
      "12                     Sega         11.200000\n",
      "13                     Sony         84.155714\n",
      "14                   Tectoy          5.500000\n"
     ]
    }
   ],
   "source": [
    "# Company Consistency\n",
    "avg_sales = df.groupby(\"Company\")[\"UnitSoldsMillion\"].mean().reset_index()\n",
    "print(avg_sales)"
   ]
  },
  {
   "cell_type": "markdown",
   "id": "59e89e33-297e-4c80-9d26-4562d473662d",
   "metadata": {},
   "source": [
    "# Insight\n",
    "- Sony is very consistant, Nintendo is more mixed, and Microsoft overall sold less."
   ]
  },
  {
   "cell_type": "markdown",
   "id": "40e0e8c9-fc91-454c-8d0a-269a5e8096d0",
   "metadata": {},
   "source": [
    "# Key Takeaways\n",
    "- Top consoles: PS4\n",
    "- Market Share: Nintendo\n",
    "- By Type: Home consoles sold the most overall\n",
    "- Trend: Consoles released after 2000 sold much more than earlier\n",
    "- Company patterns: Sony is the most consistent, Nintendo is more mixed with highs and lows, and Microsoft is\n",
    "consitant overall less sales overall"
   ]
  }
 ],
 "metadata": {
  "kernelspec": {
   "display_name": "Python 3 (ipykernel)",
   "language": "python",
   "name": "python3"
  },
  "language_info": {
   "codemirror_mode": {
    "name": "ipython",
    "version": 3
   },
   "file_extension": ".py",
   "mimetype": "text/x-python",
   "name": "python",
   "nbconvert_exporter": "python",
   "pygments_lexer": "ipython3",
   "version": "3.13.5"
  }
 },
 "nbformat": 4,
 "nbformat_minor": 5
}

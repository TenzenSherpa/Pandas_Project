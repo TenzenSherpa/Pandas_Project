{
 "cells": [
  {
   "cell_type": "code",
   "execution_count": 30,
   "id": "77db3f87-1465-4200-858b-1c0abd89097f",
   "metadata": {},
   "outputs": [
    {
     "name": "stdout",
     "output_type": "stream",
     "text": [
      "Shape: (51, 7)\n",
      "Columns: ['Console Name', 'Type', 'Company', 'Released Year', 'Discontinuation Year', 'Units sold (million)', 'Remarks']\n",
      "      Console Name      Type   Company  Released Year  Discontinuation Year  \\\n",
      "0    PlayStation 2      Home      Sony           2000                  2013   \n",
      "1      Nintendo DS  Handheld  Nintendo           2004                  2013   \n",
      "2  Nintendo Switch    Hybrid  Nintendo           2017                     0   \n",
      "3         Game Boy  Handheld  Nintendo           1989                  2003   \n",
      "4   Game Boy Color  Handheld  Nintendo           1998                  2003   \n",
      "\n",
      "   Units sold (million)                                            Remarks  \n",
      "0                155.00           Final sales are greater than 155 million  \n",
      "1                154.02                                                NaN  \n",
      "2                122.55                                                NaN  \n",
      "3                 64.42  The Game Boy (1989) and the Game Boy Color (19...  \n",
      "4                 44.06                                                NaN  \n",
      "<class 'pandas.core.frame.DataFrame'>\n",
      "RangeIndex: 51 entries, 0 to 50\n",
      "Data columns (total 7 columns):\n",
      " #   Column                Non-Null Count  Dtype  \n",
      "---  ------                --------------  -----  \n",
      " 0   Console Name          51 non-null     object \n",
      " 1   Type                  51 non-null     object \n",
      " 2   Company               51 non-null     object \n",
      " 3   Released Year         51 non-null     int64  \n",
      " 4   Discontinuation Year  51 non-null     int64  \n",
      " 5   Units sold (million)  51 non-null     float64\n",
      " 6   Remarks               16 non-null     object \n",
      "dtypes: float64(1), int64(2), object(4)\n",
      "memory usage: 2.9+ KB\n"
     ]
    }
   ],
   "source": [
    "import pandas as pd\n",
    "\n",
    "import matplotlib.pyplot as plt\n",
    "\n",
    "# Read the csv file from the Data Folder\n",
    "df = pd.read_csv(\"../data/best_selling_game_consoles.csv\")\n",
    "\n",
    "print(\"Shape:\", df.shape)\n",
    "print(\"Columns:\", df.columns.tolist())\n",
    "print(df.head(5))\n",
    "df.info()"
   ]
  },
  {
   "cell_type": "code",
   "execution_count": 15,
   "id": "b899beda-1fd9-4852-b874-57d4419dea83",
   "metadata": {},
   "outputs": [
    {
     "name": "stdout",
     "output_type": "stream",
     "text": [
      "Missing values per column:\n",
      " Console Name             0\n",
      "Type                     0\n",
      "Company                  0\n",
      "Released Year            0\n",
      "Discontinuation Year     0\n",
      "Units sold (million)     0\n",
      "Remarks                 35\n",
      "dtype: int64\n"
     ]
    }
   ],
   "source": [
    "print(\"Missing values per column:\\n\", df.isna().sum())"
   ]
  },
  {
   "cell_type": "markdown",
   "id": "99d2185f-c099-4cc4-86a5-de1ba1572a82",
   "metadata": {},
   "source": [
    "Looking at the data what we can focus on is Console Name,\n",
    "Type, Company, Released Year, Discontinued Year, Units sold."
   ]
  },
  {
   "cell_type": "code",
   "execution_count": 16,
   "id": "4d4c921b-e6fd-4a8c-93ce-ad1dd76330d7",
   "metadata": {},
   "outputs": [],
   "source": [
    "# Drop Remarks Columns\n",
    "df = df.drop(columns=[\"Remarks\"])"
   ]
  },
  {
   "cell_type": "code",
   "execution_count": 19,
   "id": "e435a5c8-a61d-4e21-a1aa-c34ce25975ee",
   "metadata": {},
   "outputs": [
    {
     "name": "stdout",
     "output_type": "stream",
     "text": [
      "Unique consoles ['PlayStation 2' 'Nintendo DS' 'Nintendo Switch' 'Game Boy'\n",
      " 'Game Boy Color' 'PlayStation 4' 'PlayStation' 'Wii' 'PlayStation 3'\n",
      " 'Xbox 360' 'Game Boy Advance' 'PlayStation Portable' 'Nintendo 3DS'\n",
      " 'NES/Famicom' 'Xbox One' 'SNES/Super Famicom' 'Game & Watch'\n",
      " 'Nintendo 64' 'Sega Genesis/Mega Drive' 'PlayStation 5' 'Atari 2600'\n",
      " 'Xbox' 'GameCube' 'Xbox Series X/S' 'Wii U' 'PlayStation Vita'\n",
      " 'Sega Master System' 'Sega Game Gear' 'PC Engine/TurboGrafx-16'\n",
      " 'Sega Saturn' 'Dreamcast' 'Master System(Brazilian variants)'\n",
      " 'Dendy(Famiclone)' 'Super NES Classic Edition' 'Famicom Disk System'\n",
      " 'NES Classic Edition' 'WonderSwan' 'Sega Pico' 'Color TV-Game'\n",
      " 'Intellivision' 'Mega Drive(Brazilian variants)' 'N-Gage' 'Sega CD'\n",
      " 'ColecoVision' 'Magnavox Odyssey' 'PC Engine CD-ROM' 'Atari 7800'\n",
      " 'Atari Lynx' 'Philips CD-i' 'Telstar' 'Atari 5200']\n"
     ]
    }
   ],
   "source": [
    "print(\"Unique consoles\", df[\"Console Name\"].unique())"
   ]
  },
  {
   "cell_type": "code",
   "execution_count": 21,
   "id": "f7454a18-1bf5-423f-8926-7e73374caf53",
   "metadata": {},
   "outputs": [
    {
     "name": "stdout",
     "output_type": "stream",
     "text": [
      "Number of unique consoles: 51\n"
     ]
    }
   ],
   "source": [
    "print(\"Number of unique consoles:\", df[\"Console Name\"].nunique())"
   ]
  },
  {
   "cell_type": "code",
   "execution_count": 22,
   "id": "4fc8ef3c-5b61-4b4d-9575-f5ac94107b2c",
   "metadata": {},
   "outputs": [],
   "source": [
    "# Lets rename the Units sold (million) to UnitSoldsMillion\n",
    "df = df.rename(columns={\"Units sold (million)\": \"UnitSoldsMillion\"})"
   ]
  },
  {
   "cell_type": "code",
   "execution_count": 27,
   "id": "1ec37046-c6ad-4cd5-8fc5-466470248ed1",
   "metadata": {},
   "outputs": [
    {
     "name": "stdout",
     "output_type": "stream",
     "text": [
      "      Console Name   Company  UnitSoldsMillion\n",
      "0    PlayStation 2      Sony            155.00\n",
      "1      Nintendo DS  Nintendo            154.02\n",
      "2  Nintendo Switch  Nintendo            122.55\n",
      "5    PlayStation 4      Sony            117.20\n",
      "6      PlayStation      Sony            102.49\n"
     ]
    }
   ],
   "source": [
    "# Explaratory Analysis\n",
    "# Top 5 Best Selling Consoles\n",
    "top5 = df.nlargest(5, \"UnitSoldsMillion\")[[\"Console Name\", \"Company\", \"UnitSoldsMillion\"]]\n",
    "print(top5)"
   ]
  },
  {
   "cell_type": "markdown",
   "id": "763b1e00-7fb4-4cc7-9d91-df913d65bccc",
   "metadata": {},
   "source": [
    "# The insights from the above\n",
    "- These five dominate the all time charts. Notably, Sony's Playstation 2 is the\n",
    "  best selling console ever, slighty ahead of the headheld Nintendo DS.\n",
    "- The switch has nearly made the same amount of money as the Nintendo DS has so far\n",
    "  within similar timeframe despite being new as well and experimental."
   ]
  },
  {
   "cell_type": "code",
   "execution_count": null,
   "id": "13040ea4-9d65-4237-a751-a438939a862d",
   "metadata": {},
   "outputs": [],
   "source": []
  },
  {
   "cell_type": "code",
   "execution_count": null,
   "id": "17c61c19-23ef-4ab9-86ad-aa76c28f7505",
   "metadata": {},
   "outputs": [],
   "source": []
  }
 ],
 "metadata": {
  "kernelspec": {
   "display_name": "Python 3 (ipykernel)",
   "language": "python",
   "name": "python3"
  },
  "language_info": {
   "codemirror_mode": {
    "name": "ipython",
    "version": 3
   },
   "file_extension": ".py",
   "mimetype": "text/x-python",
   "name": "python",
   "nbconvert_exporter": "python",
   "pygments_lexer": "ipython3",
   "version": "3.13.5"
  }
 },
 "nbformat": 4,
 "nbformat_minor": 5
}
